{
 "cells": [
  {
   "cell_type": "markdown",
   "metadata": {},
   "source": [
    "# Visualization and MODIS data\n",
    "\n",
    "\n",
    "<div class=\"alert-info\">\n",
    "\n",
    "### Overview\n",
    "    \n",
    "* **teaching:** 15 minutes\n",
    "* **exercises:** 0\n",
    "* **questions:**\n",
    "    * How can I find, anaylize, and visualize satellite imagery for an area of interest using Python?\n",
    "    * Distinguish between tiled versus analytic raster products from the MODIS sensor\n",
    "    \n",
    "</div>\n",
    "\n",
    "\n",
    "This notebook will focus on accessing public datasets on AWS for a target area affected by Cyclone Kenneth (2019-04-25). Read more about this event and its impact at the [Humanitarian Open Street Map website](https://tasks.hotosm.org/project/5977). We will use a bounding box we will work with covers the island of Nagazidja, including the captial [city of Moroni](https://en.wikipedia.org/wiki/Moroni,_Comoros) - Union of the Comoros, a sovereign archipelago nation in the Indian Ocean. \n",
    "\n",
    "We will examine raster images from the [MODIS](https://modis.gsfc.nasa.gov/data/) instrument. \"MODIS\" stands for \"MODerate Resolution SpectroRadiometer\". Moderate resolution refers to the fact that MODIS data has at best a 250 meter pixel posting, but single images cover hundreds of kilometers and with two sensors currently in orbit, we currently get [daily views of the entire globe](https://worldview.earthdata.nasa.gov/)!"
   ]
  },
  {
   "cell_type": "markdown",
   "metadata": {},
   "source": [
    "### Table of contents\n",
    "\n",
    "1. [**Leaflet slippy maps**](#Leaflet-slippy-maps)\n",
    "1. [**NASA GIBS**](#NASA-GIBS)\n",
    "1. [**Jupyter Widgets**](#Jupyter-Widgets)\n",
    "1. [**Analytical Data**](#Analytical-Data)"
   ]
  },
  {
   "cell_type": "code",
   "execution_count": 1,
   "metadata": {},
   "outputs": [],
   "source": [
    "# Import python libraries we'll work with \n",
    "import ipyleaflet\n",
    "from ipyleaflet import Map, Rectangle, basemaps, basemap_to_tiles, TileLayer, SplitMapControl, Polygon\n",
    "\n",
    "import ipywidgets\n",
    "import datetime\n",
    "import re"
   ]
  },
  {
   "cell_type": "code",
   "execution_count": 2,
   "metadata": {},
   "outputs": [],
   "source": [
    "bbox = [43.16, -11.32, 43.54, -11.96]\n",
    "west, north, east, south = bbox\n",
    "bbox_ctr = [0.5*(north+south), 0.5*(west+east)]"
   ]
  },
  {
   "cell_type": "markdown",
   "metadata": {},
   "source": [
    "## Leaflet slippy maps"
   ]
  },
  {
   "cell_type": "code",
   "execution_count": 3,
   "metadata": {},
   "outputs": [
    {
     "data": {
      "application/vnd.jupyter.widget-view+json": {
       "model_id": "e0e70da547b841efb78d9c893599cbb7",
       "version_major": 2,
       "version_minor": 0
      },
      "text/plain": [
       "Map(basemap={'url': 'https://{s}.tile.openstreetmap.org/{z}/{x}/{y}.png', 'max_zoom': 19, 'attribution': 'Map …"
      ]
     },
     "metadata": {},
     "output_type": "display_data"
    }
   ],
   "source": [
    "# good tool for getting a big picture of where you are working\n",
    "m = Map(center=bbox_ctr, zoom=6)\n",
    "rectangle = Rectangle(bounds=((south, west), (north, east))) #SW and NE corners of the rectangle (lat, lon)\n",
    "m.add_layer(rectangle)\n",
    "m"
   ]
  },
  {
   "cell_type": "markdown",
   "metadata": {},
   "source": [
    "## NASA GIBS\n",
    "\n",
    "NASA's [Global Imagery Browse Services (GIBS)](https://earthdata.nasa.gov/eosdis/science-system-description/eosdis-components/gibs) is a great Web Map Tile Service (WMTS) to visualize NASA data as pre-rendered tiled raster images. The [NASA Worldview web application](https://worldview.earthdata.nasa.gov/) is a way to explore all GIBS datasets. We can also use `ipyleaflet` to explore GIBS datasets, like MODIS truecolor images, within a Jupyter Notebook. Use the slider in the image below to view the image."
   ]
  },
  {
   "cell_type": "code",
   "execution_count": 4,
   "metadata": {},
   "outputs": [
    {
     "data": {
      "application/vnd.jupyter.widget-view+json": {
       "model_id": "fdb1ff10ffe14f128fcb3a8df535939a",
       "version_major": 2,
       "version_minor": 0
      },
      "text/plain": [
       "Map(basemap={'url': 'https://{s}.tile.openstreetmap.org/{z}/{x}/{y}.png', 'max_zoom': 19, 'attribution': 'Map …"
      ]
     },
     "metadata": {},
     "output_type": "display_data"
    }
   ],
   "source": [
    "m = Map(center=bbox_ctr, zoom=6)# MODIS great for large areas (onl)\n",
    "\n",
    "# identifies new basemap\n",
    "# Modis has a daily image\n",
    "right_layer = basemap_to_tiles(basemaps.NASAGIBS.ModisTerraTrueColorCR, \"2019-04-25\")\n",
    "\n",
    "left_layer = TileLayer()\n",
    "control = SplitMapControl(left_layer=left_layer, right_layer=right_layer)\n",
    "m.add_control(control)\n",
    "\n",
    "m.add_layer(rectangle)\n",
    "\n",
    "m"
   ]
  },
  {
   "cell_type": "markdown",
   "metadata": {},
   "source": [
    "## Jupyter Widgets\n",
    "\n",
    "With Jupyter Widgets we can quickly built simple but powerful visualization tools. This next code cell lets you easily select a MODIS image from any given date\n",
    "\n",
    "<div class=\"alert-warning\">\n",
    "\n",
    "#### Note\n",
    "    \n",
    "* Date selection widget doesn't currently work on Safari browser ([GitHub issue])(https://ipywidgets.readthedocs.io/en/latest/examples/Widget%20List.html#Date-picker), and may require selecting a date twice to display a new image\n",
    "* MODIS true color has a [max zoom level of 9](https://wiki.earthdata.nasa.gov/display/GIBS/Map+Library+Usage#expand-GDALBasics) corresponding to 250m resolution. As you zoom in closer, the tiled imagery dissapears\n",
    "</div>"
   ]
  },
  {
   "cell_type": "code",
   "execution_count": null,
   "metadata": {},
   "outputs": [],
   "source": [
    "m = Map(center=bbox_ctr, zoom=6)\n",
    "\n",
    "#right_layer = basemap_to_tiles(basemaps.NASAGIBS.ModisTerraTrueColorCR) \n",
    "right_layer = basemap_to_tiles(basemaps.NASAGIBS.ModisAquaTrueColorCR, \"2019-04-25\") #switch to aqua\n",
    "currentDate = re.search('\\d{4}-\\d{2}-\\d{2}', right_layer.url).group()\n",
    "\n",
    "left_layer = TileLayer()\n",
    "control = SplitMapControl(left_layer=left_layer, right_layer=right_layer)\n",
    "m.add_control(control)\n",
    "\n",
    "m.add_layer(rectangle)\n",
    "\n",
    "# Currently datepicker is a bit buggy https://github.com/jupyter-widgets/ipywidgets/pull/2433\n",
    "date_picker = ipywidgets.DatePicker(description='Select Imagery Date: ', style=dict(description_width='initial'))\n",
    "label = ipywidgets.Label(value=currentDate)\n",
    "\n",
    "def validate(change):\n",
    "    # javascript months indexed at 0\n",
    "    change['new']['value']['month'] += 1\n",
    "    oldDate = datetime.date(*change['old']['value'].values())\n",
    "    newDate = datetime.date(*change['new']['value'].values())\n",
    "    today = datetime.date.today()\n",
    "    launch = datetime.date(2000,1,1)  \n",
    "    if newDate < today and newDate > launch:\n",
    "        datestr = newDate.strftime('%Y-%m-%d')\n",
    "        label.set_trait('value', f'{datestr}')\n",
    "\n",
    "def update_map(change):\n",
    "    currentDate = re.search('\\d{4}-\\d{2}-\\d{2}', right_layer.url).group()\n",
    "    newDate = change['new']\n",
    "    newUrl = right_layer.url.replace(currentDate, newDate)\n",
    "    right_layer.set_trait('url', newUrl)\n",
    "\n",
    "date_picker.observe(validate)\n",
    "label.observe(update_map)\n",
    "\n",
    "display(date_picker, label, m)"
   ]
  },
  {
   "cell_type": "markdown",
   "metadata": {},
   "source": [
    "## Analytical MODIS Data\n",
    "\n",
    "There is a limited amount of MODIS data currently [stored on AWS](https://registry.opendata.aws/modis/). Alternatively, with a [NASA EarthData login](https://urs.earthdata.nasa.gov/), you can access the entire archive with the [EarthData Search](https://search.earthdata.nasa.gov/) web interface, or programatically with [NASA CMR]().\n",
    "\n",
    "**Excercise:** Find and open a single band of MODIS data covering our area of interest. Use GDAL and rasterio. "
   ]
  }
 ],
 "metadata": {
  "kernelspec": {
   "display_name": "Python 3",
   "language": "python",
   "name": "python3"
  },
  "language_info": {
   "codemirror_mode": {
    "name": "ipython",
    "version": 3
   },
   "file_extension": ".py",
   "mimetype": "text/x-python",
   "name": "python",
   "nbconvert_exporter": "python",
   "pygments_lexer": "ipython3",
   "version": "3.7.3"
  }
 },
 "nbformat": 4,
 "nbformat_minor": 4
}
